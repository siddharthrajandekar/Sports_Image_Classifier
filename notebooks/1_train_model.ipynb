{
 "cells": [
  {
   "cell_type": "code",
   "execution_count": null,
   "id": "4670e4dc",
   "metadata": {},
   "outputs": [],
   "source": [
    "import warnings\n",
    "warnings.filterwarnings('ignore')\n",
    "\n",
    "import torch\n",
    "import torchvision\n",
    "import torchvision.transforms as transforms\n",
    "import torch.optim as optim\n",
    "import torch.nn as nn\n",
    "import numpy as np\n",
    "from torch.utils.data import DataLoader\n",
    "import matplotlib.pyplot as plt"
   ]
  },
  {
   "cell_type": "code",
   "execution_count": null,
   "id": "48908200",
   "metadata": {},
   "outputs": [],
   "source": [
    "batch_size = 128\n",
    "epochs = 20\n",
    "lr = 0.001\n",
    "device = torch.device('cuda' if torch.cuda.is_available() else 'cpu')"
   ]
  },
  {
   "cell_type": "code",
   "execution_count": null,
   "id": "706af85b",
   "metadata": {},
   "outputs": [],
   "source": [
    "# Load Datasets\n",
    "dataset = ClassificationDataset('/content')\n",
    "testset = ClassificationDataset('/content', mode='test')\n",
    "trainloader = DataLoader(dataset, batch_size=batch_size, shuffle=True, num_workers=2)\n",
    "testloader = DataLoader(testset, batch_size=batch_size, shuffle=False, num_workers=2)"
   ]
  },
  {
   "cell_type": "code",
   "execution_count": null,
   "id": "766947f8",
   "metadata": {},
   "outputs": [],
   "source": [
    "# Model, Loss, Optimizer\n",
    "model = CNNModel(num_classes=100).to(device)\n",
    "loss = nn.CrossEntropyLoss()\n",
    "optimizer = optim.Adam(model.parameters(), lr=lr)"
   ]
  },
  {
   "cell_type": "code",
   "execution_count": null,
   "id": "b9a589f8",
   "metadata": {},
   "outputs": [],
   "source": [
    "# Helper Functions\n",
    "def accuracy(y_pred, y):\n",
    "    _, predicted = torch.max(y_pred.data, 1)\n",
    "    total = y.size(0)\n",
    "    correct = (predicted == y).sum().item()\n",
    "    return correct/total\n",
    "\n",
    "def train(model, dataset, optimizer, criterion, device):\n",
    "    train_iter = iter(dataset)\n",
    "    model.train()\n",
    "    acc_vals = []\n",
    "    loss_vals = []\n",
    "    for i, (data, targets) in enumerate(train_iter):\n",
    "        data = data.to(device=device)\n",
    "        targets = targets.to(device=device)\n",
    "\n",
    "        outputs = model.forward(data)\n",
    "        loss = criterion(outputs, targets)\n",
    "        optimizer.zero_grad()\n",
    "        loss.backward()\n",
    "        optimizer.step()\n",
    "\n",
    "        acc = accuracy(outputs, targets)\n",
    "        acc_vals.append(acc)\n",
    "        loss_val = loss.item()\n",
    "        loss_vals.append(loss_val)\n",
    "\n",
    "    return np.mean(acc_vals), np.mean(loss_vals)\n",
    "\n",
    "def test(model, dataset, criterion, device):\n",
    "    model.eval()\n",
    "    acc_vals = []\n",
    "    loss_vals = []\n",
    "    with torch.no_grad():\n",
    "        for data, targets in dataset:\n",
    "            data = data.to(device=device)\n",
    "            targets = targets.to(device=device)\n",
    "\n",
    "            outputs = model.forward(data)\n",
    "            loss = criterion(outputs, targets)\n",
    "\n",
    "            acc = accuracy(outputs, targets)\n",
    "            acc_vals.append(acc)\n",
    "            loss_val = loss.item()\n",
    "            loss_vals.append(loss_val)\n",
    "\n",
    "    return np.mean(acc_vals), np.mean(loss_vals)"
   ]
  },
  {
   "cell_type": "code",
   "execution_count": null,
   "id": "c8f9d7c4",
   "metadata": {},
   "outputs": [],
   "source": [
    "# Training Loop\n",
    "train_accs = []\n",
    "test_accs = []\n",
    "train_losses = []\n",
    "test_losses = []\n",
    "\n",
    "for epoch in range(epochs):\n",
    "    print(epoch)\n",
    "    train_acc, train_loss = train(model, trainloader, optimizer, loss, device)\n",
    "    test_acc, test_loss = test(model, testloader, loss, device)\n",
    "    train_accs.append(train_acc)\n",
    "    test_accs.append(test_acc)\n",
    "    train_losses.append(train_loss)\n",
    "    test_losses.append(test_loss)\n",
    "\n",
    "print(\"OVERALL TRAINING COMPLETE\")\n",
    "print(f\"Train accuracy: {max(train_accs): .6f}\")\n",
    "print(f\"Test accuracy: {max(test_accs): .6f}\")\n"
   ]
  }
 ],
 "metadata": {
  "language_info": {
   "name": "python"
  }
 },
 "nbformat": 4,
 "nbformat_minor": 5
}
