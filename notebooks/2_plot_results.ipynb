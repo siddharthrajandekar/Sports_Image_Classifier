{
 "cells": [
  {
   "cell_type": "code",
   "execution_count": null,
   "id": "c11b6dc2",
   "metadata": {
    "vscode": {
     "languageId": "r"
    }
   },
   "outputs": [],
   "source": [
    "# Plotting Training and Validation Curves\n",
    "x_vals = range(1, 21)\n",
    "\n",
    "fig = plt.figure(figsize=(16, 6))\n",
    "ax1 = fig.add_subplot(1, 2, 1)\n",
    "ax1.plot(x_vals, train_accs, label='Train')\n",
    "ax1.plot(x_vals, test_accs, label='Test')\n",
    "ax1.set_xlabel(\"Number of epochs\")\n",
    "ax1.set_ylabel(\"Accuracy\")\n",
    "ax1.set_title(\"Accuracy vs number of epochs\")\n",
    "ax1.legend()\n",
    "\n",
    "ax2 = fig.add_subplot(1, 2, 2)\n",
    "ax2.plot(x_vals, train_losses, label='Train')\n",
    "ax2.plot(x_vals, test_losses, label='Test')\n",
    "ax2.set_xlabel(\"Number of epochs\")\n",
    "ax2.set_ylabel(\"Loss\")\n",
    "ax2.set_title(\"Loss vs number of epochs\")\n",
    "ax2.legend()\n",
    "plt.show()\n"
   ]
  }
 ],
 "metadata": {
  "language_info": {
   "name": "python"
  }
 },
 "nbformat": 4,
 "nbformat_minor": 5
}
